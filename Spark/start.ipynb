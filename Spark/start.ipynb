{
 "cells": [
  {
   "cell_type": "code",
   "execution_count": 3,
   "id": "01f55321",
   "metadata": {},
   "outputs": [
    {
     "name": "stdout",
     "output_type": "stream",
     "text": [
      "Requirement already satisfied: kafka-python in /opt/conda/lib/python3.9/site-packages (2.0.2)\r\n"
     ]
    }
   ],
   "source": [
    "!pip install kafka-python"
   ]
  },
  {
   "cell_type": "code",
   "execution_count": 4,
   "id": "c5cc23e6",
   "metadata": {},
   "outputs": [],
   "source": [
    "from kafka import KafkaConsumer\n",
    "from json import loads\n",
    "import time\n",
    "from pyspark.sql import SparkSession\n",
    "from multiprocessing import Process, Manager\n",
    "import json"
   ]
  },
  {
   "cell_type": "code",
   "execution_count": 5,
   "id": "7ccabbea",
   "metadata": {},
   "outputs": [],
   "source": [
    "columns = [\"vendor_name\",\"Trip_Pickup_DateTime\",\"Trip_Dropoff_DateTime\",\n",
    "           \"Passenger_Count\",\"Trip_Distance\",\"Start_Lon\",\"Start_Lat\",\n",
    "           \"Rate_Code\",\"store_and_forward\",\"End_Lon\",\"End_Lat\",\"Payment_Type\",\n",
    "           \"Fare_Amt\",\"surcharge\",\"mta_tax\",\"Tip_Amt\",\"Tolls_Amt\",\"Total_Amt\"]"
   ]
  },
  {
   "cell_type": "code",
   "execution_count": 6,
   "id": "f29cf476",
   "metadata": {},
   "outputs": [],
   "source": [
    "consumer = KafkaConsumer('ny_tripdata',\n",
    "                         bootstrap_servers=['docker-compose_kafka_1:29092'],\n",
    "                         auto_offset_reset='earliest',\n",
    "                         group_id='group')"
   ]
  },
  {
   "cell_type": "code",
   "execution_count": 7,
   "id": "836f0a7a",
   "metadata": {},
   "outputs": [],
   "source": [
    "manager = Manager()\n",
    "messages = manager.Queue()"
   ]
  },
  {
   "cell_type": "code",
   "execution_count": 8,
   "id": "7d839e31",
   "metadata": {},
   "outputs": [
    {
     "data": {
      "text/plain": [
       "<AutoProxy[Queue] object, typeid 'Queue' at 0x7fcf90f0a220>"
      ]
     },
     "execution_count": 8,
     "metadata": {},
     "output_type": "execute_result"
    }
   ],
   "source": [
    "messages"
   ]
  },
  {
   "cell_type": "code",
   "execution_count": 10,
   "id": "3d15b5b9",
   "metadata": {},
   "outputs": [],
   "source": [
    "def consumeData(consumer, messages):\n",
    "    try:\n",
    "        for message in consumer:\n",
    "            msg = json.loads(message.value.decode(\"utf-8\"))\n",
    "            messages.put(msg)\n",
    "    except Exception as e:\n",
    "        print(e)\n",
    "\n",
    "t1 = Process(target=consumeData, args=(consumer, messages, ))"
   ]
  },
  {
   "cell_type": "code",
   "execution_count": 11,
   "id": "c70bee05",
   "metadata": {},
   "outputs": [],
   "source": [
    "t1.start()"
   ]
  },
  {
   "cell_type": "code",
   "execution_count": 19,
   "id": "eabb48e8",
   "metadata": {},
   "outputs": [
    {
     "data": {
      "text/plain": [
       "{'vendor_name': 'CMT',\n",
       " 'Trip_Pickup_DateTime': '2009-01-05 05:29:14',\n",
       " 'Trip_Dropoff_DateTime': '2009-01-05 05:45:09',\n",
       " 'Passenger_Count': '1',\n",
       " 'Trip_Distance': '7.7999999999999998',\n",
       " 'Start_Lon': '-73.995064999999997',\n",
       " 'Start_Lat': '40.688806999999997',\n",
       " 'Rate_Code': None,\n",
       " 'store_and_forward': None,\n",
       " 'End_Lon': '-73.974406000000002',\n",
       " 'End_Lat': '40.759920999999999',\n",
       " 'Payment_Type': 'Cash',\n",
       " 'Fare_Amt': '20.199999999999999',\n",
       " 'surcharge': '0',\n",
       " 'mta_tax': None,\n",
       " 'Tip_Amt': '0',\n",
       " 'Tolls_Amt': '0',\n",
       " 'Total_Amt': '20.199999999999999'}"
      ]
     },
     "execution_count": 19,
     "metadata": {},
     "output_type": "execute_result"
    }
   ],
   "source": [
    "messages.get()"
   ]
  },
  {
   "cell_type": "code",
   "execution_count": null,
   "id": "5a464cab",
   "metadata": {},
   "outputs": [],
   "source": [
    "t1.terminate()\n",
    "del t1"
   ]
  },
  {
   "cell_type": "code",
   "execution_count": 13,
   "id": "54b0b5bb",
   "metadata": {
    "scrolled": false
   },
   "outputs": [
    {
     "name": "stderr",
     "output_type": "stream",
     "text": [
      "WARNING: An illegal reflective access operation has occurred\n",
      "WARNING: Illegal reflective access by org.apache.spark.unsafe.Platform (file:/usr/local/spark-3.1.2-bin-hadoop3.2/jars/spark-unsafe_2.12-3.1.2.jar) to constructor java.nio.DirectByteBuffer(long,int)\n",
      "WARNING: Please consider reporting this to the maintainers of org.apache.spark.unsafe.Platform\n",
      "WARNING: Use --illegal-access=warn to enable warnings of further illegal reflective access operations\n",
      "WARNING: All illegal access operations will be denied in a future release\n",
      "21/07/21 19:48:46 WARN NativeCodeLoader: Unable to load native-hadoop library for your platform... using builtin-java classes where applicable\n",
      "Using Spark's default log4j profile: org/apache/spark/log4j-defaults.properties\n",
      "Setting default log level to \"WARN\".\n",
      "To adjust logging level use sc.setLogLevel(newLevel). For SparkR, use setLogLevel(newLevel).\n"
     ]
    }
   ],
   "source": [
    "spark = SparkSession \\\n",
    "    .builder \\\n",
    "    .appName(\"NY_tripdate\") \\\n",
    "    .config(\"spark.jars\", \"/home/jovyan/work/postgresql-42.2.23.jar\") \\\n",
    "    .getOrCreate()"
   ]
  },
  {
   "cell_type": "code",
   "execution_count": 21,
   "id": "6308008b",
   "metadata": {},
   "outputs": [],
   "source": [
    "# df = spark.read \\\n",
    "#     .option(\"dbtable\", \"person\") \\\n",
    "#     .format(\"jdbc\") \\\n",
    "#     .option(\"url\", \"jdbc:postgresql://dockerfiles_db_1:5432/postgres\") \\\n",
    "#     .option(\"user\", \"postgres\").option(\"password\", \"postgres1234\") \\\n",
    "#     .option(\"driver\", \"org.postgresql.Driver\") \\\n",
    "#     .load()\n",
    "\n",
    "# df.printSchema()"
   ]
  },
  {
   "cell_type": "code",
   "execution_count": 23,
   "id": "31d358b6",
   "metadata": {},
   "outputs": [],
   "source": [
    "# df.show()"
   ]
  },
  {
   "cell_type": "code",
   "execution_count": 19,
   "id": "5aca98f7",
   "metadata": {},
   "outputs": [],
   "source": [
    "# spark.write \\\n",
    "#     .format(\"jdbc\") \\\n",
    "#     .option(\"url\", \"jdbc:postgresql://dockerfiles_db_1:5432/postgres\") \\\n",
    "#     .option(\"user\", \"postgres\").option(\"password\", \"postgres1234\") \\\n",
    "#     .option(\"driver\", \"org.postgresql.Driver\") \\\n",
    "#     .option(\"createTableColumnTypes\", \"name CHAR(64), comments VARCHAR(1024)\")\n",
    "# #     .jdbc(\"jdbc:postgresql:dbserver\", \"schema.tablename\",\n",
    "# #           properties={\"user\": \"username\", \"password\": \"password\"})\n"
   ]
  },
  {
   "cell_type": "code",
   "execution_count": 20,
   "id": "e76ec682",
   "metadata": {
    "scrolled": false
   },
   "outputs": [],
   "source": []
  },
  {
   "cell_type": "code",
   "execution_count": null,
   "id": "c5a585fe",
   "metadata": {
    "scrolled": false
   },
   "outputs": [],
   "source": []
  },
  {
   "cell_type": "code",
   "execution_count": null,
   "id": "e14dd5de",
   "metadata": {},
   "outputs": [],
   "source": []
  }
 ],
 "metadata": {
  "kernelspec": {
   "display_name": "Python 3 (ipykernel)",
   "language": "python",
   "name": "python3"
  },
  "language_info": {
   "codemirror_mode": {
    "name": "ipython",
    "version": 3
   },
   "file_extension": ".py",
   "mimetype": "text/x-python",
   "name": "python",
   "nbconvert_exporter": "python",
   "pygments_lexer": "ipython3",
   "version": "3.9.5"
  }
 },
 "nbformat": 4,
 "nbformat_minor": 5
}
