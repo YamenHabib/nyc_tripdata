{
 "cells": [
  {
   "cell_type": "code",
   "execution_count": null,
   "id": "01f55321",
   "metadata": {},
   "outputs": [],
   "source": []
  },
  {
   "cell_type": "code",
   "execution_count": 1,
   "id": "77bb33cd",
   "metadata": {},
   "outputs": [
    {
     "name": "stdout",
     "output_type": "stream",
     "text": [
      "Requirement already satisfied: kafka-python in /opt/conda/lib/python3.9/site-packages (2.0.2)\n",
      "Requirement already satisfied: psycopg2-binary in /opt/conda/lib/python3.9/site-packages (2.9.1)\n"
     ]
    }
   ],
   "source": [
    "!pip install kafka-python\n",
    "!pip install psycopg2-binary"
   ]
  },
  {
   "cell_type": "code",
   "execution_count": 21,
   "id": "c5cc23e6",
   "metadata": {},
   "outputs": [],
   "source": [
    "import psycopg2\n",
    "from kafka import KafkaConsumer, TopicPartition\n",
    "from json import loads\n",
    "import time\n",
    "from pyspark.sql import SparkSession\n",
    "from multiprocessing import Process, Manager\n",
    "import json"
   ]
  },
  {
   "cell_type": "code",
   "execution_count": 22,
   "id": "f29cf476",
   "metadata": {},
   "outputs": [],
   "source": [
    "consumer = KafkaConsumer('ny_tripdata',\n",
    "                         bootstrap_servers=['nyc_tripdata_kafka_1:29092'],\n",
    "                         auto_offset_reset='earliest',\n",
    "                         group_id='group')"
   ]
  },
  {
   "cell_type": "code",
   "execution_count": 23,
   "id": "71440f1e",
   "metadata": {},
   "outputs": [],
   "source": [
    "\n"
   ]
  },
  {
   "cell_type": "code",
   "execution_count": 7,
   "id": "7bbcfd15",
   "metadata": {},
   "outputs": [],
   "source": [
    "res = consumer.poll(max_records=6)"
   ]
  },
  {
   "cell_type": "code",
   "execution_count": 24,
   "id": "b82df173",
   "metadata": {},
   "outputs": [
    {
     "name": "stdout",
     "output_type": "stream",
     "text": [
      "TopicPartition(topic='ny_tripdata', partition=0)\n"
     ]
    }
   ],
   "source": [
    "for k in res:\n",
    "    print(k)"
   ]
  },
  {
   "cell_type": "code",
   "execution_count": 27,
   "id": "867310ba",
   "metadata": {},
   "outputs": [
    {
     "data": {
      "text/plain": [
       "b'{\"vendor_name\":\"VTS\",\"Trip_Pickup_DateTime\":\"2009-01-25 00:46:00\",\"Trip_Dropoff_DateTime\":\"2009-01-25 00:59:00\",\"Passenger_Count\":\"1\",\"Trip_Distance\":\"3.1899999999999999\",\"Start_Lon\":\"-73.968412000000001\",\"Start_Lat\":\"40.762372999999997\",\"Rate_Code\":null,\"store_and_forward\":null,\"End_Lon\":\"-74.002967999999996\",\"End_Lat\":\"40.740091999999997\",\"Payment_Type\":\"CASH\",\"Fare_Amt\":\"10.9\",\"surcharge\":\"0.5\",\"mta_tax\":null,\"Tip_Amt\":\"0\",\"Tolls_Amt\":\"0\",\"Total_Amt\":\"11.4\"}'"
      ]
     },
     "execution_count": 27,
     "metadata": {},
     "output_type": "execute_result"
    }
   ],
   "source": [
    "res[topic][0].value"
   ]
  },
  {
   "cell_type": "code",
   "execution_count": 29,
   "id": "32461479",
   "metadata": {},
   "outputs": [],
   "source": [
    "data = []\n",
    "for message in res[topic]:\n",
    "    msg  = json.loads(message.value.decode(\"utf-8\"))\n",
    "    tmp =  get_most_relevant_feature(msg)\n",
    "    tmp = json.dumps(tmp)\n",
    "    data.append(tmp)"
   ]
  },
  {
   "cell_type": "code",
   "execution_count": 30,
   "id": "15061be6",
   "metadata": {},
   "outputs": [
    {
     "data": {
      "text/plain": [
       "['{\"vendor_name\": \"VTS\", \"Trip_Pickup_DateTime\": \"2009-01-25 00:46:00\", \"Trip_Dropoff_DateTime\": \"2009-01-25 00:59:00\", \"Trip_Distance\": \"3.1899999999999999\", \"Start_Lon\": \"-73.968412000000001\", \"Start_Lat\": \"40.762372999999997\", \"End_Lon\": \"-74.002967999999996\", \"End_Lat\": \"40.740091999999997\"}',\n",
       " '{\"vendor_name\": \"VTS\", \"Trip_Pickup_DateTime\": \"2009-01-25 12:16:00\", \"Trip_Dropoff_DateTime\": \"2009-01-25 12:33:00\", \"Trip_Distance\": \"2.2999999999999998\", \"Start_Lon\": \"-73.994609999999994\", \"Start_Lat\": \"40.750591999999997\", \"End_Lon\": \"-73.993575000000007\", \"End_Lat\": \"40.733224999999997\"}',\n",
       " '{\"vendor_name\": \"VTS\", \"Trip_Pickup_DateTime\": \"2009-01-25 19:49:00\", \"Trip_Dropoff_DateTime\": \"2009-01-25 20:22:00\", \"Trip_Distance\": \"19.210000000000001\", \"Start_Lon\": \"-73.783422999999999\", \"Start_Lat\": \"40.648646999999997\", \"End_Lon\": \"-74.00658\", \"End_Lat\": \"40.705803000000003\"}',\n",
       " '{\"vendor_name\": \"CMT\", \"Trip_Pickup_DateTime\": \"2009-01-06 02:06:20\", \"Trip_Dropoff_DateTime\": \"2009-01-06 02:09:51\", \"Trip_Distance\": \"1.2\", \"Start_Lon\": \"-73.979408000000006\", \"Start_Lat\": \"40.751480000000001\", \"End_Lon\": \"-73.979798000000002\", \"End_Lat\": \"40.739282000000003\"}',\n",
       " '{\"vendor_name\": \"VTS\", \"Trip_Pickup_DateTime\": \"2009-01-26 09:28:00\", \"Trip_Dropoff_DateTime\": \"2009-01-26 09:29:00\", \"Trip_Distance\": \"1.4099999999999999\", \"Start_Lon\": \"-73.994046999999995\", \"Start_Lat\": \"40.752097999999997\", \"End_Lon\": \"-73.995035000000001\", \"End_Lat\": \"40.743893\"}',\n",
       " '{\"vendor_name\": \"VTS\", \"Trip_Pickup_DateTime\": \"2009-01-23 01:19:00\", \"Trip_Dropoff_DateTime\": \"2009-01-23 01:23:00\", \"Trip_Distance\": \"1.5900000000000001\", \"Start_Lon\": \"-73.946802000000005\", \"Start_Lat\": \"40.797305000000001\", \"End_Lon\": \"-73.966403\", \"End_Lat\": \"40.798963000000001\"}']"
      ]
     },
     "execution_count": 30,
     "metadata": {},
     "output_type": "execute_result"
    }
   ],
   "source": [
    "data"
   ]
  },
  {
   "cell_type": "code",
   "execution_count": 6,
   "id": "836f0a7a",
   "metadata": {},
   "outputs": [
    {
     "data": {
      "text/plain": [
       "0"
      ]
     },
     "execution_count": 6,
     "metadata": {},
     "output_type": "execute_result"
    }
   ],
   "source": [
    "manager = Manager()\n",
    "data_queue = manager.Queue()\n",
    "data_queue.qsize()"
   ]
  },
  {
   "cell_type": "code",
   "execution_count": 7,
   "id": "b49a7f1c",
   "metadata": {},
   "outputs": [
    {
     "ename": "KeyboardInterrupt",
     "evalue": "",
     "output_type": "error",
     "traceback": [
      "\u001b[0;31m---------------------------------------------------------------------------\u001b[0m",
      "\u001b[0;31mKeyboardInterrupt\u001b[0m                         Traceback (most recent call last)",
      "\u001b[0;32m/tmp/ipykernel_37/148178202.py\u001b[0m in \u001b[0;36m<module>\u001b[0;34m\u001b[0m\n\u001b[0;32m----> 1\u001b[0;31m \u001b[0mdata_queue\u001b[0m\u001b[0;34m.\u001b[0m\u001b[0mget\u001b[0m\u001b[0;34m(\u001b[0m\u001b[0;34m)\u001b[0m\u001b[0;34m\u001b[0m\u001b[0;34m\u001b[0m\u001b[0m\n\u001b[0m",
      "\u001b[0;32m<string>\u001b[0m in \u001b[0;36mget\u001b[0;34m(self, *args, **kwds)\u001b[0m\n",
      "\u001b[0;32m/opt/conda/lib/python3.9/multiprocessing/managers.py\u001b[0m in \u001b[0;36m_callmethod\u001b[0;34m(self, methodname, args, kwds)\u001b[0m\n\u001b[1;32m    807\u001b[0m \u001b[0;34m\u001b[0m\u001b[0m\n\u001b[1;32m    808\u001b[0m         \u001b[0mconn\u001b[0m\u001b[0;34m.\u001b[0m\u001b[0msend\u001b[0m\u001b[0;34m(\u001b[0m\u001b[0;34m(\u001b[0m\u001b[0mself\u001b[0m\u001b[0;34m.\u001b[0m\u001b[0m_id\u001b[0m\u001b[0;34m,\u001b[0m \u001b[0mmethodname\u001b[0m\u001b[0;34m,\u001b[0m \u001b[0margs\u001b[0m\u001b[0;34m,\u001b[0m \u001b[0mkwds\u001b[0m\u001b[0;34m)\u001b[0m\u001b[0;34m)\u001b[0m\u001b[0;34m\u001b[0m\u001b[0;34m\u001b[0m\u001b[0m\n\u001b[0;32m--> 809\u001b[0;31m         \u001b[0mkind\u001b[0m\u001b[0;34m,\u001b[0m \u001b[0mresult\u001b[0m \u001b[0;34m=\u001b[0m \u001b[0mconn\u001b[0m\u001b[0;34m.\u001b[0m\u001b[0mrecv\u001b[0m\u001b[0;34m(\u001b[0m\u001b[0;34m)\u001b[0m\u001b[0;34m\u001b[0m\u001b[0;34m\u001b[0m\u001b[0m\n\u001b[0m\u001b[1;32m    810\u001b[0m \u001b[0;34m\u001b[0m\u001b[0m\n\u001b[1;32m    811\u001b[0m         \u001b[0;32mif\u001b[0m \u001b[0mkind\u001b[0m \u001b[0;34m==\u001b[0m \u001b[0;34m'#RETURN'\u001b[0m\u001b[0;34m:\u001b[0m\u001b[0;34m\u001b[0m\u001b[0;34m\u001b[0m\u001b[0m\n",
      "\u001b[0;32m/opt/conda/lib/python3.9/multiprocessing/connection.py\u001b[0m in \u001b[0;36mrecv\u001b[0;34m(self)\u001b[0m\n\u001b[1;32m    253\u001b[0m         \u001b[0mself\u001b[0m\u001b[0;34m.\u001b[0m\u001b[0m_check_closed\u001b[0m\u001b[0;34m(\u001b[0m\u001b[0;34m)\u001b[0m\u001b[0;34m\u001b[0m\u001b[0;34m\u001b[0m\u001b[0m\n\u001b[1;32m    254\u001b[0m         \u001b[0mself\u001b[0m\u001b[0;34m.\u001b[0m\u001b[0m_check_readable\u001b[0m\u001b[0;34m(\u001b[0m\u001b[0;34m)\u001b[0m\u001b[0;34m\u001b[0m\u001b[0;34m\u001b[0m\u001b[0m\n\u001b[0;32m--> 255\u001b[0;31m         \u001b[0mbuf\u001b[0m \u001b[0;34m=\u001b[0m \u001b[0mself\u001b[0m\u001b[0;34m.\u001b[0m\u001b[0m_recv_bytes\u001b[0m\u001b[0;34m(\u001b[0m\u001b[0;34m)\u001b[0m\u001b[0;34m\u001b[0m\u001b[0;34m\u001b[0m\u001b[0m\n\u001b[0m\u001b[1;32m    256\u001b[0m         \u001b[0;32mreturn\u001b[0m \u001b[0m_ForkingPickler\u001b[0m\u001b[0;34m.\u001b[0m\u001b[0mloads\u001b[0m\u001b[0;34m(\u001b[0m\u001b[0mbuf\u001b[0m\u001b[0;34m.\u001b[0m\u001b[0mgetbuffer\u001b[0m\u001b[0;34m(\u001b[0m\u001b[0;34m)\u001b[0m\u001b[0;34m)\u001b[0m\u001b[0;34m\u001b[0m\u001b[0;34m\u001b[0m\u001b[0m\n\u001b[1;32m    257\u001b[0m \u001b[0;34m\u001b[0m\u001b[0m\n",
      "\u001b[0;32m/opt/conda/lib/python3.9/multiprocessing/connection.py\u001b[0m in \u001b[0;36m_recv_bytes\u001b[0;34m(self, maxsize)\u001b[0m\n\u001b[1;32m    417\u001b[0m \u001b[0;34m\u001b[0m\u001b[0m\n\u001b[1;32m    418\u001b[0m     \u001b[0;32mdef\u001b[0m \u001b[0m_recv_bytes\u001b[0m\u001b[0;34m(\u001b[0m\u001b[0mself\u001b[0m\u001b[0;34m,\u001b[0m \u001b[0mmaxsize\u001b[0m\u001b[0;34m=\u001b[0m\u001b[0;32mNone\u001b[0m\u001b[0;34m)\u001b[0m\u001b[0;34m:\u001b[0m\u001b[0;34m\u001b[0m\u001b[0;34m\u001b[0m\u001b[0m\n\u001b[0;32m--> 419\u001b[0;31m         \u001b[0mbuf\u001b[0m \u001b[0;34m=\u001b[0m \u001b[0mself\u001b[0m\u001b[0;34m.\u001b[0m\u001b[0m_recv\u001b[0m\u001b[0;34m(\u001b[0m\u001b[0;36m4\u001b[0m\u001b[0;34m)\u001b[0m\u001b[0;34m\u001b[0m\u001b[0;34m\u001b[0m\u001b[0m\n\u001b[0m\u001b[1;32m    420\u001b[0m         \u001b[0msize\u001b[0m\u001b[0;34m,\u001b[0m \u001b[0;34m=\u001b[0m \u001b[0mstruct\u001b[0m\u001b[0;34m.\u001b[0m\u001b[0munpack\u001b[0m\u001b[0;34m(\u001b[0m\u001b[0;34m\"!i\"\u001b[0m\u001b[0;34m,\u001b[0m \u001b[0mbuf\u001b[0m\u001b[0;34m.\u001b[0m\u001b[0mgetvalue\u001b[0m\u001b[0;34m(\u001b[0m\u001b[0;34m)\u001b[0m\u001b[0;34m)\u001b[0m\u001b[0;34m\u001b[0m\u001b[0;34m\u001b[0m\u001b[0m\n\u001b[1;32m    421\u001b[0m         \u001b[0;32mif\u001b[0m \u001b[0msize\u001b[0m \u001b[0;34m==\u001b[0m \u001b[0;34m-\u001b[0m\u001b[0;36m1\u001b[0m\u001b[0;34m:\u001b[0m\u001b[0;34m\u001b[0m\u001b[0;34m\u001b[0m\u001b[0m\n",
      "\u001b[0;32m/opt/conda/lib/python3.9/multiprocessing/connection.py\u001b[0m in \u001b[0;36m_recv\u001b[0;34m(self, size, read)\u001b[0m\n\u001b[1;32m    382\u001b[0m         \u001b[0mremaining\u001b[0m \u001b[0;34m=\u001b[0m \u001b[0msize\u001b[0m\u001b[0;34m\u001b[0m\u001b[0;34m\u001b[0m\u001b[0m\n\u001b[1;32m    383\u001b[0m         \u001b[0;32mwhile\u001b[0m \u001b[0mremaining\u001b[0m \u001b[0;34m>\u001b[0m \u001b[0;36m0\u001b[0m\u001b[0;34m:\u001b[0m\u001b[0;34m\u001b[0m\u001b[0;34m\u001b[0m\u001b[0m\n\u001b[0;32m--> 384\u001b[0;31m             \u001b[0mchunk\u001b[0m \u001b[0;34m=\u001b[0m \u001b[0mread\u001b[0m\u001b[0;34m(\u001b[0m\u001b[0mhandle\u001b[0m\u001b[0;34m,\u001b[0m \u001b[0mremaining\u001b[0m\u001b[0;34m)\u001b[0m\u001b[0;34m\u001b[0m\u001b[0;34m\u001b[0m\u001b[0m\n\u001b[0m\u001b[1;32m    385\u001b[0m             \u001b[0mn\u001b[0m \u001b[0;34m=\u001b[0m \u001b[0mlen\u001b[0m\u001b[0;34m(\u001b[0m\u001b[0mchunk\u001b[0m\u001b[0;34m)\u001b[0m\u001b[0;34m\u001b[0m\u001b[0;34m\u001b[0m\u001b[0m\n\u001b[1;32m    386\u001b[0m             \u001b[0;32mif\u001b[0m \u001b[0mn\u001b[0m \u001b[0;34m==\u001b[0m \u001b[0;36m0\u001b[0m\u001b[0;34m:\u001b[0m\u001b[0;34m\u001b[0m\u001b[0;34m\u001b[0m\u001b[0m\n",
      "\u001b[0;31mKeyboardInterrupt\u001b[0m: "
     ]
    }
   ],
   "source": [
    "data_queue.get()"
   ]
  },
  {
   "cell_type": "code",
   "execution_count": 28,
   "id": "7e460784",
   "metadata": {},
   "outputs": [],
   "source": [
    "def get_most_relevant_feature(msg):\n",
    "    data = {}\n",
    "    data['vendor_name'] = msg['vendor_name']\n",
    "    data['Trip_Pickup_DateTime'] = msg['Trip_Pickup_DateTime']\n",
    "    data['Trip_Dropoff_DateTime'] = msg['Trip_Dropoff_DateTime']\n",
    "    data['Trip_Distance'] = msg['Trip_Distance']\n",
    "    data['Start_Lon'] = msg['Start_Lon']\n",
    "    data['Start_Lat'] = msg['Start_Lat']\n",
    "    data['End_Lon'] = msg['End_Lon']\n",
    "    data['End_Lat'] = msg['End_Lat']\n",
    "    return data"
   ]
  },
  {
   "cell_type": "code",
   "execution_count": 6,
   "id": "ec42b2cd",
   "metadata": {},
   "outputs": [],
   "source": [
    "def insert_trip(conn,\n",
    "                cur,\n",
    "                vendor_name, \n",
    "                Trip_Pickup_DateTime, \n",
    "                Trip_Dropoff_DateTime,\n",
    "                Trip_Distance,\n",
    "                Start_Lon,\n",
    "                Start_Lat,\n",
    "                End_Lon,\n",
    "                End_Lat):\n",
    "\n",
    "    sql = \"\"\"INSERT INTO trips (vendor_name, \n",
    "                                Trip_Pickup_DateTime, \n",
    "                                Trip_Dropoff_DateTime, \n",
    "                                Trip_Distance, \n",
    "                                Start_Lon, \n",
    "                                Start_Lat, \n",
    "                                End_Lon, \n",
    "                                End_Lat)\n",
    "             VALUES(%s,%s,%s,%s,%s,%s,%s,%s);\"\"\"\n",
    "    \n",
    "    # execute the INSERT statement\n",
    "    cur.execute(sql, (vendor_name, \n",
    "                      Trip_Pickup_DateTime, \n",
    "                      Trip_Dropoff_DateTime,\n",
    "                      Trip_Distance,\n",
    "                      Start_Lon,\n",
    "                      Start_Lat,\n",
    "                      End_Lon,\n",
    "                      End_Lat,))\n",
    "    # get the generated id back\n",
    "    # vendor_id = cur.fetchone()[0]\n",
    "    # commit the changes to the database\n",
    "    conn.commit()"
   ]
  },
  {
   "cell_type": "code",
   "execution_count": 7,
   "id": "3d15b5b9",
   "metadata": {},
   "outputs": [],
   "source": [
    "def consumeData(consumer, data_queue):\n",
    "    try:\n",
    "        # connect to the PostgreSQL database\n",
    "        conn = psycopg2.connect(host=\"docker-compose_db_1\",\n",
    "                                database=\"postgres\",\n",
    "                                user=\"postgres\",\n",
    "                                password=\"postgres1234\")\n",
    "        # create a new cursor\n",
    "        cur = conn.cursor()\n",
    "        \n",
    "        for message in consumer:\n",
    "            try:\n",
    "                msg = json.loads(message.value.decode(\"utf-8\"))\n",
    "                data = get_most_relevant_feature(msg)\n",
    "                insert_trip(conn, cur, *list(data.values()))\n",
    "                data_queue.put(data)\n",
    "                print(\"Progress: {}\".format(data_queue.qsize()), end=\"\\r\", flush=True)\n",
    "            except Exception as e:\n",
    "                print(data)\n",
    "                print(e)\n",
    "                pass\n",
    "        # close communication with the database\n",
    "        cur.close()\n",
    "    except (Exception, psycopg2.DatabaseError) as error:\n",
    "        print(error)\n",
    "    finally:\n",
    "        if conn is not None:\n",
    "            conn.close()\n",
    "\n",
    "t1 = Process(target=consumeData, args=(consumer, data_queue, ))"
   ]
  },
  {
   "cell_type": "code",
   "execution_count": 8,
   "id": "c70bee05",
   "metadata": {
    "scrolled": true
   },
   "outputs": [
    {
     "name": "stdout",
     "output_type": "stream",
     "text": [
      "Progress: 998Progress: 288Progress: 289\r"
     ]
    }
   ],
   "source": [
    "t1.start()"
   ]
  },
  {
   "cell_type": "code",
   "execution_count": 12,
   "id": "eabb48e8",
   "metadata": {},
   "outputs": [
    {
     "data": {
      "text/plain": [
       "998"
      ]
     },
     "execution_count": 12,
     "metadata": {},
     "output_type": "execute_result"
    }
   ],
   "source": [
    "data_queue.qsize()"
   ]
  },
  {
   "cell_type": "code",
   "execution_count": 13,
   "id": "5a464cab",
   "metadata": {},
   "outputs": [],
   "source": [
    "t1.terminate()\n",
    "del t1"
   ]
  },
  {
   "cell_type": "code",
   "execution_count": null,
   "id": "e5221141",
   "metadata": {},
   "outputs": [],
   "source": [
    "plt.figure(figsize = (10,10))\n",
    "plt.plot(longitude,latitude,'.', alpha = 0.4, markersize = 0.05)\n",
    "plt.show()"
   ]
  },
  {
   "cell_type": "code",
   "execution_count": null,
   "id": "07293471",
   "metadata": {},
   "outputs": [],
   "source": []
  },
  {
   "cell_type": "code",
   "execution_count": null,
   "id": "526e7879",
   "metadata": {},
   "outputs": [],
   "source": []
  }
 ],
 "metadata": {
  "kernelspec": {
   "display_name": "Python 3 (ipykernel)",
   "language": "python",
   "name": "python3"
  },
  "language_info": {
   "codemirror_mode": {
    "name": "ipython",
    "version": 3
   },
   "file_extension": ".py",
   "mimetype": "text/x-python",
   "name": "python",
   "nbconvert_exporter": "python",
   "pygments_lexer": "ipython3",
   "version": "3.9.5"
  }
 },
 "nbformat": 4,
 "nbformat_minor": 5
}
