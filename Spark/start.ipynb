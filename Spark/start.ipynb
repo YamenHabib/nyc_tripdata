{
 "cells": [
  {
   "cell_type": "code",
   "execution_count": 1,
   "id": "01f55321",
   "metadata": {},
   "outputs": [
    {
     "name": "stdout",
     "output_type": "stream",
     "text": [
      "Collecting kafka-python\n",
      "  Downloading kafka_python-2.0.2-py2.py3-none-any.whl (246 kB)\n",
      "\u001b[K     |████████████████████████████████| 246 kB 662 kB/s eta 0:00:01\n",
      "\u001b[?25hInstalling collected packages: kafka-python\n",
      "Successfully installed kafka-python-2.0.2\n",
      "Collecting psycopg2-binary\n",
      "  Downloading psycopg2_binary-2.9.1-cp39-cp39-manylinux_2_17_x86_64.manylinux2014_x86_64.whl (3.4 MB)\n",
      "\u001b[K     |████████████████████████████████| 3.4 MB 3.4 MB/s eta 0:00:01\n",
      "\u001b[?25hInstalling collected packages: psycopg2-binary\n",
      "Successfully installed psycopg2-binary-2.9.1\n"
     ]
    }
   ],
   "source": [
    "!pip install kafka-python\n",
    "!pip install psycopg2-binary"
   ]
  },
  {
   "cell_type": "code",
   "execution_count": 44,
   "id": "c5cc23e6",
   "metadata": {},
   "outputs": [],
   "source": [
    "import psycopg2\n",
    "from kafka import KafkaConsumer\n",
    "from json import loads\n",
    "import time\n",
    "from pyspark.sql import SparkSession\n",
    "from multiprocessing import Process, Manager\n",
    "import json"
   ]
  },
  {
   "cell_type": "code",
   "execution_count": 45,
   "id": "f29cf476",
   "metadata": {},
   "outputs": [],
   "source": [
    "consumer = KafkaConsumer('ny_tripdata',\n",
    "                         bootstrap_servers=['docker-compose_kafka_1:29092'],\n",
    "                         auto_offset_reset='earliest',\n",
    "                         group_id='group')"
   ]
  },
  {
   "cell_type": "code",
   "execution_count": 46,
   "id": "836f0a7a",
   "metadata": {},
   "outputs": [
    {
     "data": {
      "text/plain": [
       "0"
      ]
     },
     "execution_count": 46,
     "metadata": {},
     "output_type": "execute_result"
    }
   ],
   "source": [
    "manager = Manager()\n",
    "data_queue = manager.Queue()\n",
    "data_queue.qsize()"
   ]
  },
  {
   "cell_type": "code",
   "execution_count": 47,
   "id": "7e460784",
   "metadata": {},
   "outputs": [],
   "source": [
    "def get_most_relevant_feature(msg):\n",
    "    data = {}\n",
    "    data['vendor_name'] = msg['vendor_name']\n",
    "    data['Trip_Pickup_DateTime'] = msg['Trip_Pickup_DateTime']\n",
    "    data['Trip_Dropoff_DateTime'] = msg['Trip_Dropoff_DateTime']\n",
    "    data['Trip_Distance'] = msg['Trip_Distance']\n",
    "    data['Start_Lon'] = msg['Start_Lon']\n",
    "    data['Start_Lat'] = msg['Start_Lat']\n",
    "    data['End_Lon'] = msg['End_Lon']\n",
    "    data['End_Lat'] = msg['End_Lat']\n",
    "    return data"
   ]
  },
  {
   "cell_type": "code",
   "execution_count": 48,
   "id": "ec42b2cd",
   "metadata": {},
   "outputs": [],
   "source": [
    "def insert_trip(conn,\n",
    "                cur,\n",
    "                vendor_name, \n",
    "                Trip_Pickup_DateTime, \n",
    "                Trip_Dropoff_DateTime,\n",
    "                Trip_Distance,\n",
    "                Start_Lon,\n",
    "                Start_Lat,\n",
    "                End_Lon,\n",
    "                End_Lat):\n",
    "\n",
    "    sql = \"\"\"INSERT INTO trips (vendor_name, \n",
    "                                Trip_Pickup_DateTime, \n",
    "                                Trip_Dropoff_DateTime, \n",
    "                                Trip_Distance, \n",
    "                                Start_Lon, \n",
    "                                Start_Lat, \n",
    "                                End_Lon, \n",
    "                                End_Lat)\n",
    "             VALUES(%s,%s,%s,%s,%s,%s,%s,%s);\"\"\"\n",
    "    \n",
    "    # execute the INSERT statement\n",
    "    cur.execute(sql, (vendor_name, \n",
    "                      Trip_Pickup_DateTime, \n",
    "                      Trip_Dropoff_DateTime,\n",
    "                      Trip_Distance,\n",
    "                      Start_Lon,\n",
    "                      Start_Lat,\n",
    "                      End_Lon,\n",
    "                      End_Lat,))\n",
    "    # get the generated id back\n",
    "    # vendor_id = cur.fetchone()[0]\n",
    "    # commit the changes to the database\n",
    "    conn.commit()"
   ]
  },
  {
   "cell_type": "code",
   "execution_count": 49,
   "id": "3d15b5b9",
   "metadata": {},
   "outputs": [],
   "source": [
    "def consumeData(consumer, data_queue):\n",
    "    try:\n",
    "        # connect to the PostgreSQL database\n",
    "        conn = psycopg2.connect(host=\"docker-compose_db_1\",\n",
    "                                database=\"postgres\",\n",
    "                                user=\"postgres\",\n",
    "                                password=\"postgres1234\")\n",
    "        # create a new cursor\n",
    "        cur = conn.cursor()\n",
    "        \n",
    "        for message in consumer:\n",
    "            try:\n",
    "                msg = json.loads(message.value.decode(\"utf-8\"))\n",
    "                data = get_most_relevant_feature(msg)\n",
    "                insert_trip(conn, cur, *list(data.values()))\n",
    "                data_queue.put(data)\n",
    "                print(\"Progress: {}\".format(data_queue.qsize()), end=\"\\r\", flush=True)\n",
    "            except Exception as e:\n",
    "                print(data)\n",
    "                print(e)\n",
    "                pass\n",
    "        # close communication with the database\n",
    "        cur.close()\n",
    "    except (Exception, psycopg2.DatabaseError) as error:\n",
    "        print(error)\n",
    "    finally:\n",
    "        if conn is not None:\n",
    "            conn.close()\n",
    "\n",
    "t1 = Process(target=consumeData, args=(consumer, data_queue, ))"
   ]
  },
  {
   "cell_type": "code",
   "execution_count": 50,
   "id": "c70bee05",
   "metadata": {
    "scrolled": true
   },
   "outputs": [
    {
     "name": "stdout",
     "output_type": "stream",
     "text": [
      "{'vendor_name': 'CMT', 'Trip_Pickup_DateTime': '2009-01-30 20:13:', 'Trip_Dropoff_DateTime': None, 'Trip_Distance': None, 'Start_Lon': None, 'Start_Lat': None, 'End_Lon': None, 'End_Lat': None}\n",
      "null value in column \"trip_dropoff_datetime\" of relation \"trips\" violates not-null constraint\n",
      "DETAIL:  Failing row contains (15848, CMT, 2009-01-30 20:13:00, null, null, null, null, null, null, null).\n",
      "\n"
     ]
    }
   ],
   "source": [
    "t1.start()"
   ]
  },
  {
   "cell_type": "code",
   "execution_count": 53,
   "id": "eabb48e8",
   "metadata": {},
   "outputs": [
    {
     "data": {
      "text/plain": [
       "15749"
      ]
     },
     "execution_count": 53,
     "metadata": {},
     "output_type": "execute_result"
    }
   ],
   "source": [
    "data_queue.qsize()"
   ]
  },
  {
   "cell_type": "code",
   "execution_count": 33,
   "id": "5a464cab",
   "metadata": {},
   "outputs": [],
   "source": [
    "t1.terminate()\n",
    "del t1"
   ]
  },
  {
   "cell_type": "code",
   "execution_count": null,
   "id": "e5221141",
   "metadata": {},
   "outputs": [],
   "source": []
  }
 ],
 "metadata": {
  "kernelspec": {
   "display_name": "Python 3 (ipykernel)",
   "language": "python",
   "name": "python3"
  },
  "language_info": {
   "codemirror_mode": {
    "name": "ipython",
    "version": 3
   },
   "file_extension": ".py",
   "mimetype": "text/x-python",
   "name": "python",
   "nbconvert_exporter": "python",
   "pygments_lexer": "ipython3",
   "version": "3.9.5"
  }
 },
 "nbformat": 4,
 "nbformat_minor": 5
}
