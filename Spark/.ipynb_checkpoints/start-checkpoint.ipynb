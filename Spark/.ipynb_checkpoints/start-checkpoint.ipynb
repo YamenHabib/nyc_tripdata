{
 "cells": [
  {
   "cell_type": "code",
   "execution_count": 2,
   "id": "01f55321",
   "metadata": {},
   "outputs": [
    {
     "name": "stdout",
     "output_type": "stream",
     "text": [
      "Collecting kafka-python\n",
      "  Downloading kafka_python-2.0.2-py2.py3-none-any.whl (246 kB)\n",
      "\u001b[K     |████████████████████████████████| 246 kB 673 kB/s eta 0:00:01\n",
      "\u001b[?25hInstalling collected packages: kafka-python\n",
      "Successfully installed kafka-python-2.0.2\n",
      "Collecting psycopg2-binary\n",
      "  Downloading psycopg2_binary-2.9.1-cp39-cp39-manylinux_2_17_x86_64.manylinux2014_x86_64.whl (3.4 MB)\n",
      "\u001b[K     |████████████████████████████████| 3.4 MB 682 kB/s eta 0:00:01\n",
      "\u001b[?25hInstalling collected packages: psycopg2-binary\n",
      "Successfully installed psycopg2-binary-2.9.1\n"
     ]
    }
   ],
   "source": [
    "!pip install kafka-python\n",
    "!pip install psycopg2-binary"
   ]
  },
  {
   "cell_type": "code",
   "execution_count": 3,
   "id": "c5cc23e6",
   "metadata": {},
   "outputs": [],
   "source": [
    "import psycopg2\n",
    "from kafka import KafkaConsumer\n",
    "from json import loads\n",
    "import time\n",
    "from pyspark.sql import SparkSession\n",
    "from multiprocessing import Process, Manager\n",
    "import json"
   ]
  },
  {
   "cell_type": "code",
   "execution_count": 4,
   "id": "f29cf476",
   "metadata": {},
   "outputs": [
    {
     "ename": "NoBrokersAvailable",
     "evalue": "NoBrokersAvailable",
     "output_type": "error",
     "traceback": [
      "\u001b[0;31m---------------------------------------------------------------------------\u001b[0m",
      "\u001b[0;31mNoBrokersAvailable\u001b[0m                        Traceback (most recent call last)",
      "\u001b[0;32m/tmp/ipykernel_37/2188452695.py\u001b[0m in \u001b[0;36m<module>\u001b[0;34m\u001b[0m\n\u001b[0;32m----> 1\u001b[0;31m consumer = KafkaConsumer('ny_tripdata',\n\u001b[0m\u001b[1;32m      2\u001b[0m                          \u001b[0mbootstrap_servers\u001b[0m\u001b[0;34m=\u001b[0m\u001b[0;34m[\u001b[0m\u001b[0;34m'docker-compose_kafka_1:29092'\u001b[0m\u001b[0;34m]\u001b[0m\u001b[0;34m,\u001b[0m\u001b[0;34m\u001b[0m\u001b[0;34m\u001b[0m\u001b[0m\n\u001b[1;32m      3\u001b[0m                          \u001b[0mauto_offset_reset\u001b[0m\u001b[0;34m=\u001b[0m\u001b[0;34m'earliest'\u001b[0m\u001b[0;34m,\u001b[0m\u001b[0;34m\u001b[0m\u001b[0;34m\u001b[0m\u001b[0m\n\u001b[1;32m      4\u001b[0m                          group_id='group')\n",
      "\u001b[0;32m/opt/conda/lib/python3.9/site-packages/kafka/consumer/group.py\u001b[0m in \u001b[0;36m__init__\u001b[0;34m(self, *topics, **configs)\u001b[0m\n\u001b[1;32m    354\u001b[0m                         str(self.config['api_version']), str_version)\n\u001b[1;32m    355\u001b[0m \u001b[0;34m\u001b[0m\u001b[0m\n\u001b[0;32m--> 356\u001b[0;31m         \u001b[0mself\u001b[0m\u001b[0;34m.\u001b[0m\u001b[0m_client\u001b[0m \u001b[0;34m=\u001b[0m \u001b[0mKafkaClient\u001b[0m\u001b[0;34m(\u001b[0m\u001b[0mmetrics\u001b[0m\u001b[0;34m=\u001b[0m\u001b[0mself\u001b[0m\u001b[0;34m.\u001b[0m\u001b[0m_metrics\u001b[0m\u001b[0;34m,\u001b[0m \u001b[0;34m**\u001b[0m\u001b[0mself\u001b[0m\u001b[0;34m.\u001b[0m\u001b[0mconfig\u001b[0m\u001b[0;34m)\u001b[0m\u001b[0;34m\u001b[0m\u001b[0;34m\u001b[0m\u001b[0m\n\u001b[0m\u001b[1;32m    357\u001b[0m \u001b[0;34m\u001b[0m\u001b[0m\n\u001b[1;32m    358\u001b[0m         \u001b[0;31m# Get auto-discovered version from client if necessary\u001b[0m\u001b[0;34m\u001b[0m\u001b[0;34m\u001b[0m\u001b[0;34m\u001b[0m\u001b[0m\n",
      "\u001b[0;32m/opt/conda/lib/python3.9/site-packages/kafka/client_async.py\u001b[0m in \u001b[0;36m__init__\u001b[0;34m(self, **configs)\u001b[0m\n\u001b[1;32m    242\u001b[0m         \u001b[0;32mif\u001b[0m \u001b[0mself\u001b[0m\u001b[0;34m.\u001b[0m\u001b[0mconfig\u001b[0m\u001b[0;34m[\u001b[0m\u001b[0;34m'api_version'\u001b[0m\u001b[0;34m]\u001b[0m \u001b[0;32mis\u001b[0m \u001b[0;32mNone\u001b[0m\u001b[0;34m:\u001b[0m\u001b[0;34m\u001b[0m\u001b[0;34m\u001b[0m\u001b[0m\n\u001b[1;32m    243\u001b[0m             \u001b[0mcheck_timeout\u001b[0m \u001b[0;34m=\u001b[0m \u001b[0mself\u001b[0m\u001b[0;34m.\u001b[0m\u001b[0mconfig\u001b[0m\u001b[0;34m[\u001b[0m\u001b[0;34m'api_version_auto_timeout_ms'\u001b[0m\u001b[0;34m]\u001b[0m \u001b[0;34m/\u001b[0m \u001b[0;36m1000\u001b[0m\u001b[0;34m\u001b[0m\u001b[0;34m\u001b[0m\u001b[0m\n\u001b[0;32m--> 244\u001b[0;31m             \u001b[0mself\u001b[0m\u001b[0;34m.\u001b[0m\u001b[0mconfig\u001b[0m\u001b[0;34m[\u001b[0m\u001b[0;34m'api_version'\u001b[0m\u001b[0;34m]\u001b[0m \u001b[0;34m=\u001b[0m \u001b[0mself\u001b[0m\u001b[0;34m.\u001b[0m\u001b[0mcheck_version\u001b[0m\u001b[0;34m(\u001b[0m\u001b[0mtimeout\u001b[0m\u001b[0;34m=\u001b[0m\u001b[0mcheck_timeout\u001b[0m\u001b[0;34m)\u001b[0m\u001b[0;34m\u001b[0m\u001b[0;34m\u001b[0m\u001b[0m\n\u001b[0m\u001b[1;32m    245\u001b[0m \u001b[0;34m\u001b[0m\u001b[0m\n\u001b[1;32m    246\u001b[0m     \u001b[0;32mdef\u001b[0m \u001b[0m_can_bootstrap\u001b[0m\u001b[0;34m(\u001b[0m\u001b[0mself\u001b[0m\u001b[0;34m)\u001b[0m\u001b[0;34m:\u001b[0m\u001b[0;34m\u001b[0m\u001b[0;34m\u001b[0m\u001b[0m\n",
      "\u001b[0;32m/opt/conda/lib/python3.9/site-packages/kafka/client_async.py\u001b[0m in \u001b[0;36mcheck_version\u001b[0;34m(self, node_id, timeout, strict)\u001b[0m\n\u001b[1;32m    898\u001b[0m             \u001b[0;32mif\u001b[0m \u001b[0mtry_node\u001b[0m \u001b[0;32mis\u001b[0m \u001b[0;32mNone\u001b[0m\u001b[0;34m:\u001b[0m\u001b[0;34m\u001b[0m\u001b[0;34m\u001b[0m\u001b[0m\n\u001b[1;32m    899\u001b[0m                 \u001b[0mself\u001b[0m\u001b[0;34m.\u001b[0m\u001b[0m_lock\u001b[0m\u001b[0;34m.\u001b[0m\u001b[0mrelease\u001b[0m\u001b[0;34m(\u001b[0m\u001b[0;34m)\u001b[0m\u001b[0;34m\u001b[0m\u001b[0;34m\u001b[0m\u001b[0m\n\u001b[0;32m--> 900\u001b[0;31m                 \u001b[0;32mraise\u001b[0m \u001b[0mErrors\u001b[0m\u001b[0;34m.\u001b[0m\u001b[0mNoBrokersAvailable\u001b[0m\u001b[0;34m(\u001b[0m\u001b[0;34m)\u001b[0m\u001b[0;34m\u001b[0m\u001b[0;34m\u001b[0m\u001b[0m\n\u001b[0m\u001b[1;32m    901\u001b[0m             \u001b[0mself\u001b[0m\u001b[0;34m.\u001b[0m\u001b[0m_maybe_connect\u001b[0m\u001b[0;34m(\u001b[0m\u001b[0mtry_node\u001b[0m\u001b[0;34m)\u001b[0m\u001b[0;34m\u001b[0m\u001b[0;34m\u001b[0m\u001b[0m\n\u001b[1;32m    902\u001b[0m             \u001b[0mconn\u001b[0m \u001b[0;34m=\u001b[0m \u001b[0mself\u001b[0m\u001b[0;34m.\u001b[0m\u001b[0m_conns\u001b[0m\u001b[0;34m[\u001b[0m\u001b[0mtry_node\u001b[0m\u001b[0;34m]\u001b[0m\u001b[0;34m\u001b[0m\u001b[0;34m\u001b[0m\u001b[0m\n",
      "\u001b[0;31mNoBrokersAvailable\u001b[0m: NoBrokersAvailable"
     ]
    }
   ],
   "source": [
    "consumer = KafkaConsumer('ny_tripdata',\n",
    "                         bootstrap_servers=['nyc_tripdata_kafka_1:29092'],\n",
    "                         auto_offset_reset='earliest',\n",
    "                         group_id='group')"
   ]
  },
  {
   "cell_type": "code",
   "execution_count": null,
   "id": "836f0a7a",
   "metadata": {},
   "outputs": [],
   "source": [
    "manager = Manager()\n",
    "data_queue = manager.Queue()\n",
    "data_queue.qsize()"
   ]
  },
  {
   "cell_type": "code",
   "execution_count": null,
   "id": "1d1668f9",
   "metadata": {},
   "outputs": [],
   "source": [
    "data_queue.get()"
   ]
  },
  {
   "cell_type": "code",
   "execution_count": 5,
   "id": "7e460784",
   "metadata": {},
   "outputs": [],
   "source": [
    "def get_most_relevant_feature(msg):\n",
    "    data = {}\n",
    "    data['vendor_name'] = msg['vendor_name']\n",
    "    data['Trip_Pickup_DateTime'] = msg['Trip_Pickup_DateTime']\n",
    "    data['Trip_Dropoff_DateTime'] = msg['Trip_Dropoff_DateTime']\n",
    "    data['Trip_Distance'] = msg['Trip_Distance']\n",
    "    data['Start_Lon'] = msg['Start_Lon']\n",
    "    data['Start_Lat'] = msg['Start_Lat']\n",
    "    data['End_Lon'] = msg['End_Lon']\n",
    "    data['End_Lat'] = msg['End_Lat']\n",
    "    return data"
   ]
  },
  {
   "cell_type": "code",
   "execution_count": 6,
   "id": "ec42b2cd",
   "metadata": {},
   "outputs": [],
   "source": [
    "def insert_trip(conn,\n",
    "                cur,\n",
    "                vendor_name, \n",
    "                Trip_Pickup_DateTime, \n",
    "                Trip_Dropoff_DateTime,\n",
    "                Trip_Distance,\n",
    "                Start_Lon,\n",
    "                Start_Lat,\n",
    "                End_Lon,\n",
    "                End_Lat):\n",
    "\n",
    "    sql = \"\"\"INSERT INTO trips (vendor_name, \n",
    "                                Trip_Pickup_DateTime, \n",
    "                                Trip_Dropoff_DateTime, \n",
    "                                Trip_Distance, \n",
    "                                Start_Lon, \n",
    "                                Start_Lat, \n",
    "                                End_Lon, \n",
    "                                End_Lat)\n",
    "             VALUES(%s,%s,%s,%s,%s,%s,%s,%s);\"\"\"\n",
    "    \n",
    "    # execute the INSERT statement\n",
    "    cur.execute(sql, (vendor_name, \n",
    "                      Trip_Pickup_DateTime, \n",
    "                      Trip_Dropoff_DateTime,\n",
    "                      Trip_Distance,\n",
    "                      Start_Lon,\n",
    "                      Start_Lat,\n",
    "                      End_Lon,\n",
    "                      End_Lat,))\n",
    "    # get the generated id back\n",
    "    # vendor_id = cur.fetchone()[0]\n",
    "    # commit the changes to the database\n",
    "    conn.commit()"
   ]
  },
  {
   "cell_type": "code",
   "execution_count": 7,
   "id": "3d15b5b9",
   "metadata": {},
   "outputs": [],
   "source": [
    "def consumeData(consumer, data_queue):\n",
    "    try:\n",
    "        # connect to the PostgreSQL database\n",
    "        conn = psycopg2.connect(host=\"docker-compose_db_1\",\n",
    "                                database=\"postgres\",\n",
    "                                user=\"postgres\",\n",
    "                                password=\"postgres1234\")\n",
    "        # create a new cursor\n",
    "        cur = conn.cursor()\n",
    "        \n",
    "        for message in consumer:\n",
    "            try:\n",
    "                msg = json.loads(message.value.decode(\"utf-8\"))\n",
    "                data = get_most_relevant_feature(msg)\n",
    "                insert_trip(conn, cur, *list(data.values()))\n",
    "                data_queue.put(data)\n",
    "                print(\"Progress: {}\".format(data_queue.qsize()), end=\"\\r\", flush=True)\n",
    "            except Exception as e:\n",
    "                print(data)\n",
    "                print(e)\n",
    "                pass\n",
    "        # close communication with the database\n",
    "        cur.close()\n",
    "    except (Exception, psycopg2.DatabaseError) as error:\n",
    "        print(error)\n",
    "    finally:\n",
    "        if conn is not None:\n",
    "            conn.close()\n",
    "\n",
    "t1 = Process(target=consumeData, args=(consumer, data_queue, ))"
   ]
  },
  {
   "cell_type": "code",
   "execution_count": 8,
   "id": "c70bee05",
   "metadata": {
    "scrolled": true
   },
   "outputs": [
    {
     "name": "stdout",
     "output_type": "stream",
     "text": [
      "Progress: 998Progress: 288Progress: 289\r"
     ]
    }
   ],
   "source": [
    "t1.start()"
   ]
  },
  {
   "cell_type": "code",
   "execution_count": 12,
   "id": "eabb48e8",
   "metadata": {},
   "outputs": [
    {
     "data": {
      "text/plain": [
       "998"
      ]
     },
     "execution_count": 12,
     "metadata": {},
     "output_type": "execute_result"
    }
   ],
   "source": [
    "data_queue.qsize()"
   ]
  },
  {
   "cell_type": "code",
   "execution_count": 13,
   "id": "5a464cab",
   "metadata": {},
   "outputs": [],
   "source": [
    "t1.terminate()\n",
    "del t1"
   ]
  },
  {
   "cell_type": "code",
   "execution_count": null,
   "id": "e5221141",
   "metadata": {},
   "outputs": [],
   "source": [
    "plt.figure(figsize = (10,10))\n",
    "plt.plot(longitude,latitude,'.', alpha = 0.4, markersize = 0.05)\n",
    "plt.show()"
   ]
  },
  {
   "cell_type": "code",
   "execution_count": null,
   "id": "07293471",
   "metadata": {},
   "outputs": [],
   "source": []
  },
  {
   "cell_type": "code",
   "execution_count": null,
   "id": "526e7879",
   "metadata": {},
   "outputs": [],
   "source": []
  }
 ],
 "metadata": {
  "kernelspec": {
   "display_name": "Python 3 (ipykernel)",
   "language": "python",
   "name": "python3"
  },
  "language_info": {
   "codemirror_mode": {
    "name": "ipython",
    "version": 3
   },
   "file_extension": ".py",
   "mimetype": "text/x-python",
   "name": "python",
   "nbconvert_exporter": "python",
   "pygments_lexer": "ipython3",
   "version": "3.9.5"
  }
 },
 "nbformat": 4,
 "nbformat_minor": 5
}
