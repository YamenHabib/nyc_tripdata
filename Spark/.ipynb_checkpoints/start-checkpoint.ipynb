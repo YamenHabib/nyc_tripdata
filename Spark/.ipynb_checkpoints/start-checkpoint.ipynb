{
 "cells": [
  {
   "cell_type": "code",
   "execution_count": 1,
   "id": "01f55321",
   "metadata": {},
   "outputs": [
    {
     "name": "stdout",
     "output_type": "stream",
     "text": [
      "Requirement already satisfied: kafka-python in /opt/conda/lib/python3.9/site-packages (2.0.2)\n",
      "Requirement already satisfied: psycopg2-binary in /opt/conda/lib/python3.9/site-packages (2.9.1)\n",
      "Requirement already satisfied: config in /opt/conda/lib/python3.9/site-packages (0.5.0.post0)\n"
     ]
    }
   ],
   "source": [
    "!pip install kafka-python\n",
    "!pip install psycopg2-binary"
   ]
  },
  {
   "cell_type": "code",
   "execution_count": 1,
   "id": "c5cc23e6",
   "metadata": {},
   "outputs": [],
   "source": [
    "import psycopg2\n",
    "from kafka import KafkaConsumer\n",
    "from json import loads\n",
    "import time\n",
    "from pyspark.sql import SparkSession\n",
    "from multiprocessing import Process, Manager\n",
    "import json"
   ]
  },
  {
   "cell_type": "code",
   "execution_count": 2,
   "id": "f29cf476",
   "metadata": {},
   "outputs": [],
   "source": [
    "consumer = KafkaConsumer('ny_tripdata',\n",
    "                         bootstrap_servers=['docker-compose_kafka_1:29092'],\n",
    "                         auto_offset_reset='earliest',\n",
    "                         group_id='group')"
   ]
  },
  {
   "cell_type": "code",
   "execution_count": 3,
   "id": "836f0a7a",
   "metadata": {},
   "outputs": [
    {
     "data": {
      "text/plain": [
       "0"
      ]
     },
     "execution_count": 3,
     "metadata": {},
     "output_type": "execute_result"
    }
   ],
   "source": [
    "manager = Manager()\n",
    "data_queue = manager.Queue()\n",
    "data_queue.qsize()"
   ]
  },
  {
   "cell_type": "code",
   "execution_count": 4,
   "id": "7e460784",
   "metadata": {},
   "outputs": [],
   "source": [
    "def get_most_relevant_feature(msg):\n",
    "    data = {}\n",
    "    data['vendor_name'] = msg['vendor_name']\n",
    "    data['Trip_Pickup_DateTime'] = msg['Trip_Pickup_DateTime']\n",
    "    data['Trip_Dropoff_DateTime'] = msg['Trip_Dropoff_DateTime']\n",
    "    data['Trip_Distance'] = msg['Trip_Distance']\n",
    "    data['Start_Lon'] = msg['Start_Lon']\n",
    "    data['Start_Lat'] = msg['Start_Lat']\n",
    "    data['End_Lon'] = msg['End_Lon']\n",
    "    data['End_Lat'] = msg['End_Lat']\n",
    "    return data"
   ]
  },
  {
   "cell_type": "code",
   "execution_count": 5,
   "id": "ec42b2cd",
   "metadata": {},
   "outputs": [],
   "source": [
    "def insert_trip(conn,\n",
    "                cur,\n",
    "                vendor_name, \n",
    "                Trip_Pickup_DateTime, \n",
    "                Trip_Dropoff_DateTime,\n",
    "                Trip_Distance,\n",
    "                Start_Lon,\n",
    "                Start_Lat,\n",
    "                End_Lon,\n",
    "                End_Lat):\n",
    "\n",
    "    sql = \"\"\"INSERT INTO trips (vendor_name, \n",
    "                                Trip_Pickup_DateTime, \n",
    "                                Trip_Dropoff_DateTime, \n",
    "                                Trip_Distance, \n",
    "                                Start_Lon, \n",
    "                                Start_Lat, \n",
    "                                End_Lon, \n",
    "                                End_Lat)\n",
    "             VALUES(%s,%s,%s,%s,%s,%s,%s,%s);\"\"\"\n",
    "    \n",
    "    # execute the INSERT statement\n",
    "    cur.execute(sql, (vendor_name, \n",
    "                      Trip_Pickup_DateTime, \n",
    "                      Trip_Dropoff_DateTime,\n",
    "                      Trip_Distance,\n",
    "                      Start_Lon,\n",
    "                      Start_Lat,\n",
    "                      End_Lon,\n",
    "                      End_Lat,))\n",
    "    # get the generated id back\n",
    "    # vendor_id = cur.fetchone()[0]\n",
    "    # commit the changes to the database\n",
    "    conn.commit()"
   ]
  },
  {
   "cell_type": "code",
   "execution_count": 6,
   "id": "3d15b5b9",
   "metadata": {},
   "outputs": [],
   "source": [
    "def consumeData(consumer, data_queue):\n",
    "    try:\n",
    "        # connect to the PostgreSQL database\n",
    "        conn = psycopg2.connect(host=\"172.16.238.10\",\n",
    "                                database=\"postgres\",\n",
    "                                user=\"postgres\",\n",
    "                                password=\"postgres1234\")\n",
    "        # create a new cursor\n",
    "        cur = conn.cursor()\n",
    "        \n",
    "        for message in consumer:\n",
    "            try:\n",
    "                msg = json.loads(message.value.decode(\"utf-8\"))\n",
    "                data = get_most_relevant_feature(msg)\n",
    "                insert_trip(conn, cur, *list(data.values()))\n",
    "                data_queue.put(data)\n",
    "                print(\"Progress: {}%\".format(data_queue.qsize()), end=\"\\r\", flush=True)\n",
    "            except:\n",
    "                print(data)\n",
    "                pass\n",
    "        # close communication with the database\n",
    "        cur.close()\n",
    "    except (Exception, psycopg2.DatabaseError) as error:\n",
    "        print(error)\n",
    "    finally:\n",
    "        if conn is not None:\n",
    "            conn.close()\n",
    "\n",
    "t1 = Process(target=consumeData, args=(consumer, data_queue, ))"
   ]
  },
  {
   "cell_type": "code",
   "execution_count": 7,
   "id": "c70bee05",
   "metadata": {
    "scrolled": true
   },
   "outputs": [
    {
     "name": "stderr",
     "output_type": "stream",
     "text": [
      "Process Process-2:\n",
      "Traceback (most recent call last):\n",
      "  File \"/opt/conda/lib/python3.9/multiprocessing/process.py\", line 315, in _bootstrap\n",
      "    self.run()\n",
      "  File \"/opt/conda/lib/python3.9/multiprocessing/process.py\", line 108, in run\n",
      "    self._target(*self._args, **self._kwargs)\n",
      "  File \"/tmp/ipykernel_13064/3884698649.py\", line 11, in consumeData\n",
      "    for message in consumer:\n",
      "  File \"/opt/conda/lib/python3.9/site-packages/kafka/consumer/group.py\", line 1193, in __next__\n",
      "    return self.next_v2()\n",
      "  File \"/opt/conda/lib/python3.9/site-packages/kafka/consumer/group.py\", line 1201, in next_v2\n",
      "    return next(self._iterator)\n",
      "  File \"/opt/conda/lib/python3.9/site-packages/kafka/consumer/group.py\", line 1116, in _message_generator_v2\n",
      "    record_map = self.poll(timeout_ms=timeout_ms, update_offsets=False)\n",
      "  File \"/opt/conda/lib/python3.9/site-packages/kafka/consumer/group.py\", line 655, in poll\n",
      "    records = self._poll_once(remaining, max_records, update_offsets=update_offsets)\n",
      "  File \"/opt/conda/lib/python3.9/site-packages/kafka/consumer/group.py\", line 702, in _poll_once\n",
      "    self._client.poll(timeout_ms=timeout_ms)\n",
      "  File \"/opt/conda/lib/python3.9/site-packages/kafka/client_async.py\", line 602, in poll\n",
      "    self._poll(timeout / 1000)\n",
      "  File \"/opt/conda/lib/python3.9/site-packages/kafka/client_async.py\", line 634, in _poll\n",
      "    ready = self._selector.select(timeout)\n",
      "  File \"/opt/conda/lib/python3.9/selectors.py\", line 469, in select\n",
      "    fd_event_list = self._selector.poll(timeout, max_ev)\n",
      "KeyboardInterrupt\n"
     ]
    }
   ],
   "source": [
    "t1.start()"
   ]
  },
  {
   "cell_type": "code",
   "execution_count": 8,
   "id": "eabb48e8",
   "metadata": {},
   "outputs": [
    {
     "data": {
      "text/plain": [
       "0"
      ]
     },
     "execution_count": 8,
     "metadata": {},
     "output_type": "execute_result"
    }
   ],
   "source": [
    "data_queue.qsize()"
   ]
  },
  {
   "cell_type": "code",
   "execution_count": 33,
   "id": "5a464cab",
   "metadata": {},
   "outputs": [],
   "source": [
    "t1.terminate()\n",
    "del t1"
   ]
  }
 ],
 "metadata": {
  "kernelspec": {
   "display_name": "Python 3 (ipykernel)",
   "language": "python",
   "name": "python3"
  },
  "language_info": {
   "codemirror_mode": {
    "name": "ipython",
    "version": 3
   },
   "file_extension": ".py",
   "mimetype": "text/x-python",
   "name": "python",
   "nbconvert_exporter": "python",
   "pygments_lexer": "ipython3",
   "version": "3.9.5"
  }
 },
 "nbformat": 4,
 "nbformat_minor": 5
}
