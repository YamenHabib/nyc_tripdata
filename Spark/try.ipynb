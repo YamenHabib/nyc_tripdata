{
 "cells": [
  {
   "cell_type": "code",
   "execution_count": 46,
   "id": "4927f757",
   "metadata": {},
   "outputs": [],
   "source": [
    "%%capture\n",
    "    !pip install imblearn\n",
    "    !pip install folium"
   ]
  },
  {
   "cell_type": "code",
   "execution_count": 63,
   "id": "b485638a",
   "metadata": {},
   "outputs": [],
   "source": [
    "import os\n",
    "import io\n",
    "import base64\n",
    "from time import time\n",
    "import pandas as pd\n",
    "import numpy as np\n",
    "from matplotlib.pyplot import *\n",
    "import matplotlib.pyplot as plt\n",
    "from matplotlib import animation\n",
    "from matplotlib import cm\n",
    "from dateutil import parser\n",
    "\n",
    "from IPython.display import HTML\n",
    "from imblearn.under_sampling import RandomUnderSampler\n",
    "from subprocess import check_output\n",
    "\n",
    "import folium"
   ]
  },
  {
   "cell_type": "code",
   "execution_count": 60,
   "id": "21caa050",
   "metadata": {},
   "outputs": [],
   "source": [
    "df = pd.read_csv('yellow_tripdata_2009-01.csv')"
   ]
  },
  {
   "cell_type": "code",
   "execution_count": 64,
   "id": "340bff7f",
   "metadata": {},
   "outputs": [],
   "source": [
    "def show_fmaps(train_data, path=1):\n",
    "    \"\"\"function to generate map and add the pick up and drop coordinates\n",
    "    1. Path = 1 : Join pickup (blue) and drop(red) using a straight line\n",
    "    \"\"\"\n",
    "    map_1 = folium.Map(location=[40.767937, -73.982155], zoom_start=10,tiles='OpenStreetMap') # manually added centre\n",
    "    new_df = train_data\n",
    "    new_df.reset_index(inplace = True, drop = True)\n",
    "    for i in range(new_df.shape[0]):\n",
    "        pick_long = new_df.loc[new_df.index ==i]['Start_Lon'].values[0]\n",
    "        pick_lat = new_df.loc[new_df.index ==i]['Start_Lat'].values[0]\n",
    "        dest_long = new_df.loc[new_df.index ==i]['End_Lon'].values[0]\n",
    "        dest_lat = new_df.loc[new_df.index ==i]['End_Lat'].values[0]\n",
    "        folium.Marker([pick_lat, pick_long]).add_to(map_1)\n",
    "        folium.Marker([dest_lat, dest_long]).add_to(map_1)\n",
    "    return map_1"
   ]
  },
  {
   "cell_type": "code",
   "execution_count": 70,
   "id": "7443e0f8",
   "metadata": {
    "scrolled": false
   },
   "outputs": [],
   "source": [
    "osm = show_fmaps(df[:20], path=1)\n",
    "osm."
   ]
  },
  {
   "cell_type": "code",
   "execution_count": null,
   "id": "ac012dd3",
   "metadata": {},
   "outputs": [],
   "source": [
    "time.sleep(5)\n",
    "osm = show_fmaps(df[20:40], path=1)\n",
    "osm\n",
    "\n",
    "time.sleep(5)\n",
    "osm = show_fmaps(df[40:60], path=1)\n",
    "osm"
   ]
  },
  {
   "cell_type": "code",
   "execution_count": null,
   "id": "ee6c18f8",
   "metadata": {},
   "outputs": [],
   "source": []
  }
 ],
 "metadata": {
  "kernelspec": {
   "display_name": "Python 3 (ipykernel)",
   "language": "python",
   "name": "python3"
  },
  "language_info": {
   "codemirror_mode": {
    "name": "ipython",
    "version": 3
   },
   "file_extension": ".py",
   "mimetype": "text/x-python",
   "name": "python",
   "nbconvert_exporter": "python",
   "pygments_lexer": "ipython3",
   "version": "3.9.5"
  }
 },
 "nbformat": 4,
 "nbformat_minor": 5
}
