{
 "cells": [
  {
   "cell_type": "code",
   "execution_count": 19,
   "id": "c5cc23e6",
   "metadata": {},
   "outputs": [],
   "source": [
    "import psycopg2\n",
    "from pyspark.sql import SparkSession\n",
    "import json\n",
    "\n",
    "import time\n",
    "import numpy as np\n",
    "import seaborn as sns\n",
    "import matplotlib.pyplot as plt \n",
    "%matplotlib inline"
   ]
  },
  {
   "cell_type": "code",
   "execution_count": 4,
   "id": "07293471",
   "metadata": {},
   "outputs": [],
   "source": [
    "from pyspark.sql import SparkSession\n",
    "\n",
    "spark = SparkSession \\\n",
    "    .builder \\\n",
    "    .appName(\"vis\") \\\n",
    "    .config(\"spark.jars\", \"/home/jovyan/work/postgresql-42.2.23.jar\") \\\n",
    "    .getOrCreate()"
   ]
  },
  {
   "cell_type": "code",
   "execution_count": 86,
   "id": "e948a859",
   "metadata": {},
   "outputs": [],
   "source": [
    "df = spark.read \\\n",
    "    .format(\"jdbc\") \\\n",
    "    .option(\"url\", \"jdbc:postgresql://nyc_tripdata_db_1:5432/postgres\") \\\n",
    "    .option(\"dbtable\", \"trips\") \\\n",
    "    .option(\"user\", \"postgres\") \\\n",
    "    .option(\"password\", \"postgres1234\") \\\n",
    "    .option(\"driver\", \"org.postgresql.Driver\") \\\n",
    "    .load()"
   ]
  },
  {
   "cell_type": "code",
   "execution_count": 87,
   "id": "526e7879",
   "metadata": {},
   "outputs": [
    {
     "name": "stdout",
     "output_type": "stream",
     "text": [
      "root\n",
      " |-- id: long (nullable = true)\n",
      " |-- vendor_name: string (nullable = true)\n",
      " |-- trip_pickup_datetime: timestamp (nullable = true)\n",
      " |-- trip_dropoff_datetime: timestamp (nullable = true)\n",
      " |-- trip_distance: decimal(5,2) (nullable = true)\n",
      " |-- start_lon: double (nullable = true)\n",
      " |-- start_lat: double (nullable = true)\n",
      " |-- end_lon: double (nullable = true)\n",
      " |-- end_lat: double (nullable = true)\n",
      " |-- trip_duration: decimal(10,0) (nullable = true)\n",
      "\n"
     ]
    }
   ],
   "source": [
    "df.printSchema()"
   ]
  },
  {
   "cell_type": "code",
   "execution_count": 88,
   "id": "5f245a2e",
   "metadata": {},
   "outputs": [
    {
     "data": {
      "text/plain": [
       "9998"
      ]
     },
     "execution_count": 88,
     "metadata": {},
     "output_type": "execute_result"
    }
   ],
   "source": [
    "df.count()"
   ]
  },
  {
   "cell_type": "markdown",
   "id": "99b13416",
   "metadata": {},
   "source": [
    "### Data Cleaning\n",
    "Delete rows when trip duration is negtive values."
   ]
  },
  {
   "cell_type": "code",
   "execution_count": 89,
   "id": "6309c6c3",
   "metadata": {},
   "outputs": [
    {
     "data": {
      "text/plain": [
       "195"
      ]
     },
     "execution_count": 89,
     "metadata": {},
     "output_type": "execute_result"
    }
   ],
   "source": [
    "df_negative = df.filter(df.trip_duration < 0)\n",
    "df_negative.count()"
   ]
  },
  {
   "cell_type": "code",
   "execution_count": 90,
   "id": "09137672",
   "metadata": {},
   "outputs": [
    {
     "name": "stdout",
     "output_type": "stream",
     "text": [
      "+--------------------+---------------------+\n",
      "|trip_pickup_datetime|trip_dropoff_datetime|\n",
      "+--------------------+---------------------+\n",
      "| 2009-01-25 16:08:00|  2009-01-25 16:07:00|\n",
      "| 2009-01-24 23:37:00|  2009-01-24 23:34:00|\n",
      "| 2009-01-25 21:42:00|  2009-01-25 21:41:00|\n",
      "| 2009-01-24 11:14:00|  2009-01-24 11:12:00|\n",
      "| 2009-01-11 21:43:00|  2009-01-11 21:39:00|\n",
      "| 2009-01-13 20:26:00|  2009-01-13 20:24:00|\n",
      "| 2009-01-10 03:50:00|  2009-01-10 03:40:00|\n",
      "| 2009-01-09 16:52:00|  2009-01-09 16:45:00|\n",
      "| 2009-01-11 00:38:00|  2009-01-11 00:34:00|\n",
      "| 2009-01-09 04:54:00|  2009-01-09 04:50:00|\n",
      "| 2009-01-08 16:55:00|  2009-01-08 16:53:00|\n",
      "| 2009-01-08 13:45:00|  2009-01-08 13:41:00|\n",
      "| 2009-01-14 19:50:00|  2009-01-14 19:42:00|\n",
      "| 2009-01-08 14:26:00|  2009-01-08 14:25:00|\n",
      "| 2009-01-08 09:35:00|  2009-01-08 09:33:00|\n",
      "| 2009-01-13 21:10:00|  2009-01-13 21:07:00|\n",
      "| 2009-01-14 09:36:00|  2009-01-14 09:32:00|\n",
      "| 2009-01-05 17:15:00|  2009-01-05 17:12:00|\n",
      "| 2009-01-07 09:12:00|  2009-01-07 09:04:00|\n",
      "| 2009-01-04 03:14:00|  2009-01-04 03:13:00|\n",
      "+--------------------+---------------------+\n",
      "only showing top 20 rows\n",
      "\n"
     ]
    }
   ],
   "source": [
    "df_negative.select(df.trip_pickup_datetime, df.trip_dropoff_datetime).show()"
   ]
  },
  {
   "cell_type": "code",
   "execution_count": 91,
   "id": "22f267e4",
   "metadata": {},
   "outputs": [
    {
     "data": {
      "text/plain": [
       "9803"
      ]
     },
     "execution_count": 91,
     "metadata": {},
     "output_type": "execute_result"
    }
   ],
   "source": [
    "df = df.filter(df.trip_duration >= 0)\n",
    "df.count()"
   ]
  },
  {
   "cell_type": "markdown",
   "id": "b05bdfb0",
   "metadata": {},
   "source": [
    "### understanding our dataset by some visualization"
   ]
  },
  {
   "cell_type": "code",
   "execution_count": 82,
   "id": "9c84a3ca",
   "metadata": {},
   "outputs": [],
   "source": [
    "# start = time.time()\n",
    "# sns.set(style=\"white\", palette=\"muted\", color_codes=True)\n",
    "# f, axes = plt.subplots(1, 1, figsize=(11, 7), sharex=True)\n",
    "# sns.despine(left=True)\n",
    "# sns.distplot(np.log(train_df['trip_duration'].values+1), axlabel = 'Log(trip_duration)', label = 'log(trip_duration)', bins = 50, color=\"r\")\n",
    "# plt.setp(axes, yticks=[])\n",
    "# plt.tight_layout()\n",
    "# end = time.time()\n",
    "# print(\"Time taken by above cell is {}.\".format((end-start)))\n",
    "# plt.show()"
   ]
  },
  {
   "cell_type": "code",
   "execution_count": 99,
   "id": "006ea859",
   "metadata": {},
   "outputs": [
    {
     "data": {
      "image/png": "[encoded data removed]",
      "text/plain": [
       "<Figure size 576x288 with 1 Axes>"
      ]
     },
     "metadata": {},
     "output_type": "display_data"
    }
   ],
   "source": [
    "f, ax = plt.subplots(1, 1, figsize=(8, 4))\n",
    "sns.set(style=\"white\", palette=\"muted\", color_codes= True)\n",
    "sns.histplot(np.log(np.array(np.array(df.select('trip_duration').collect()).astype(int))+1),\n",
    "             label = 'log(trip_duration)', \n",
    "             stat = 'count',\n",
    "             bins = 50,\n",
    "             kde=True,\n",
    "             color=\"g\")\n",
    "\n",
    "plt.setp(ax, yticks=[])\n",
    "plt.tight_layout()\n",
    "plt.show()"
   ]
  },
  {
   "cell_type": "code",
   "execution_count": null,
   "id": "36d8e84b",
   "metadata": {},
   "outputs": [],
   "source": []
  }
 ],
 "metadata": {
  "kernelspec": {
   "display_name": "Python 3 (ipykernel)",
   "language": "python",
   "name": "python3"
  },
  "language_info": {
   "codemirror_mode": {
    "name": "ipython",
    "version": 3
   },
   "file_extension": ".py",
   "mimetype": "text/x-python",
   "name": "python",
   "nbconvert_exporter": "python",
   "pygments_lexer": "ipython3",
   "version": "3.9.5"
  }
 },
 "nbformat": 4,
 "nbformat_minor": 5
}
