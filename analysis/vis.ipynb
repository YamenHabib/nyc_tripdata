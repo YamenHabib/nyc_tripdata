{
 "cells": [
  {
   "cell_type": "code",
   "execution_count": 110,
   "id": "c5cc23e6",
   "metadata": {},
   "outputs": [],
   "source": [
    "import psycopg2\n",
    "from pyspark.sql import SparkSession\n",
    "from pyspark.sql.functions import dayofweek\n",
    "import json\n",
    "\n",
    "import time\n",
    "import numpy as np\n",
    "import seaborn as sns\n",
    "import matplotlib.pyplot as plt \n",
    "%matplotlib inline"
   ]
  },
  {
   "cell_type": "code",
   "execution_count": 4,
   "id": "07293471",
   "metadata": {},
   "outputs": [],
   "source": [
    "from pyspark.sql import SparkSession\n",
    "\n",
    "spark = SparkSession \\\n",
    "    .builder \\\n",
    "    .appName(\"vis\") \\\n",
    "    .config(\"spark.jars\", \"/home/jovyan/work/postgresql-42.2.23.jar\") \\\n",
    "    .getOrCreate()"
   ]
  },
  {
   "cell_type": "code",
   "execution_count": 86,
   "id": "dc8185e2",
   "metadata": {},
   "outputs": [],
   "source": [
    "df = spark.read \\\n",
    "    .format(\"jdbc\") \\\n",
    "    .option(\"url\", \"jdbc:postgresql://nyc_tripdata_db_1:5432/postgres\") \\\n",
    "    .option(\"dbtable\", \"trips\") \\\n",
    "    .option(\"user\", \"postgres\") \\\n",
    "    .option(\"password\", \"postgres1234\") \\\n",
    "    .option(\"driver\", \"org.postgresql.Driver\") \\\n",
    "    .load()"
   ]
  },
  {
   "cell_type": "code",
   "execution_count": 87,
   "id": "526e7879",
   "metadata": {},
   "outputs": [
    {
     "name": "stdout",
     "output_type": "stream",
     "text": [
      "root\n",
      " |-- id: long (nullable = true)\n",
      " |-- vendor_name: string (nullable = true)\n",
      " |-- trip_pickup_datetime: timestamp (nullable = true)\n",
      " |-- trip_dropoff_datetime: timestamp (nullable = true)\n",
      " |-- trip_distance: decimal(5,2) (nullable = true)\n",
      " |-- start_lon: double (nullable = true)\n",
      " |-- start_lat: double (nullable = true)\n",
      " |-- end_lon: double (nullable = true)\n",
      " |-- end_lat: double (nullable = true)\n",
      " |-- trip_duration: decimal(10,0) (nullable = true)\n",
      "\n"
     ]
    }
   ],
   "source": [
    "df.printSchema()"
   ]
  },
  {
   "cell_type": "code",
   "execution_count": 88,
   "id": "f0f385e8",
   "metadata": {},
   "outputs": [
    {
     "data": {
      "text/plain": [
       "9998"
      ]
     },
     "execution_count": 88,
     "metadata": {},
     "output_type": "execute_result"
    }
   ],
   "source": [
    "df.count()"
   ]
  },
  {
   "cell_type": "markdown",
   "id": "5182e8cd",
   "metadata": {},
   "source": [
    "### Data Cleaning\n",
    "Delete rows when trip duration is negtive values."
   ]
  },
  {
   "cell_type": "code",
   "execution_count": 89,
   "id": "67c981ac",
   "metadata": {},
   "outputs": [
    {
     "data": {
      "text/plain": [
       "195"
      ]
     },
     "execution_count": 89,
     "metadata": {},
     "output_type": "execute_result"
    }
   ],
   "source": [
    "df_negative = df.filter(df.trip_duration < 0)\n",
    "df_negative.count()"
   ]
  },
  {
   "cell_type": "code",
   "execution_count": 90,
   "id": "2000bf16",
   "metadata": {},
   "outputs": [
    {
     "name": "stdout",
     "output_type": "stream",
     "text": [
      "+--------------------+---------------------+\n",
      "|trip_pickup_datetime|trip_dropoff_datetime|\n",
      "+--------------------+---------------------+\n",
      "| 2009-01-25 16:08:00|  2009-01-25 16:07:00|\n",
      "| 2009-01-24 23:37:00|  2009-01-24 23:34:00|\n",
      "| 2009-01-25 21:42:00|  2009-01-25 21:41:00|\n",
      "| 2009-01-24 11:14:00|  2009-01-24 11:12:00|\n",
      "| 2009-01-11 21:43:00|  2009-01-11 21:39:00|\n",
      "| 2009-01-13 20:26:00|  2009-01-13 20:24:00|\n",
      "| 2009-01-10 03:50:00|  2009-01-10 03:40:00|\n",
      "| 2009-01-09 16:52:00|  2009-01-09 16:45:00|\n",
      "| 2009-01-11 00:38:00|  2009-01-11 00:34:00|\n",
      "| 2009-01-09 04:54:00|  2009-01-09 04:50:00|\n",
      "| 2009-01-08 16:55:00|  2009-01-08 16:53:00|\n",
      "| 2009-01-08 13:45:00|  2009-01-08 13:41:00|\n",
      "| 2009-01-14 19:50:00|  2009-01-14 19:42:00|\n",
      "| 2009-01-08 14:26:00|  2009-01-08 14:25:00|\n",
      "| 2009-01-08 09:35:00|  2009-01-08 09:33:00|\n",
      "| 2009-01-13 21:10:00|  2009-01-13 21:07:00|\n",
      "| 2009-01-14 09:36:00|  2009-01-14 09:32:00|\n",
      "| 2009-01-05 17:15:00|  2009-01-05 17:12:00|\n",
      "| 2009-01-07 09:12:00|  2009-01-07 09:04:00|\n",
      "| 2009-01-04 03:14:00|  2009-01-04 03:13:00|\n",
      "+--------------------+---------------------+\n",
      "only showing top 20 rows\n",
      "\n"
     ]
    }
   ],
   "source": [
    "df_negative.select(df.trip_pickup_datetime, df.trip_dropoff_datetime).show()"
   ]
  },
  {
   "cell_type": "code",
   "execution_count": 91,
   "id": "8b9f78df",
   "metadata": {},
   "outputs": [
    {
     "data": {
      "text/plain": [
       "9803"
      ]
     },
     "execution_count": 91,
     "metadata": {},
     "output_type": "execute_result"
    }
   ],
   "source": [
    "df = df.filter(df.trip_duration >= 0)\n",
    "df.count()"
   ]
  },
  {
   "cell_type": "markdown",
   "id": "2d187a01",
   "metadata": {},
   "source": [
    "### understanding our dataset by some visualization"
   ]
  },
  {
   "cell_type": "code",
   "execution_count": 108,
   "id": "0e14d493",
   "metadata": {},
   "outputs": [
    {
     "data": {
      "image/png": "[encoded data removed]",
      "text/plain": [
       "<Figure size 576x288 with 1 Axes>"
      ]
     },
     "metadata": {},
     "output_type": "display_data"
    }
   ],
   "source": [
    "f, ax = plt.subplots(1, 1, figsize=(8, 4))\n",
    "sns.set(style=\"white\")\n",
    "sns.histplot(np.log(np.array(np.array(df.select('trip_duration').collect()).astype(int))+1),\n",
    "             label = 'log(trip_duration)', \n",
    "             stat = 'count',\n",
    "             bins = 50,\n",
    "             kde=True)\n",
    "\n",
    "plt.setp(ax, yticks=[])\n",
    "plt.tight_layout()\n",
    "plt.show()"
   ]
  },
  {
   "cell_type": "code",
   "execution_count": 182,
   "id": "921201ae",
   "metadata": {},
   "outputs": [
    {
     "name": "stdout",
     "output_type": "stream",
     "text": [
      "+---+\n",
      "|day|\n",
      "+---+\n",
      "|  1|\n",
      "|  1|\n",
      "|  7|\n",
      "|  5|\n",
      "|  7|\n",
      "+---+\n",
      "only showing top 5 rows\n",
      "\n"
     ]
    }
   ],
   "source": [
    "tmp = df.withColumn('day', dayofweek('trip_pickup_datetime'))\n",
    "tmp.select('day').show(5)"
   ]
  },
  {
   "cell_type": "code",
   "execution_count": 183,
   "id": "61cf6366",
   "metadata": {},
   "outputs": [],
   "source": [
    "wdays_avg_duration = tmp.groupBy(\"day\")\\\n",
    "                        .mean('trip_duration') \\\n",
    "                        .withColumnRenamed(\"avg(trip_duration)\", \"avg\") \\\n",
    "                        .orderBy('day')"
   ]
  },
  {
   "cell_type": "code",
   "execution_count": 184,
   "id": "46ffd6f8",
   "metadata": {},
   "outputs": [
    {
     "name": "stderr",
     "output_type": "stream",
     "text": [
      "                                                                                \r"
     ]
    }
   ],
   "source": [
    "wdays_avg_duration = np.array(wdays_avg_duration.collect()).astype(float)"
   ]
  },
  {
   "cell_type": "code",
   "execution_count": 185,
   "id": "d2f79e64",
   "metadata": {},
   "outputs": [
    {
     "data": {
      "image/png": "[encoded data removed]",
      "text/plain": [
       "<Figure size 432x288 with 1 Axes>"
      ]
     },
     "metadata": {},
     "output_type": "display_data"
    }
   ],
   "source": [
    "sns.set(style=\"white\", palette=\"muted\", color_codes=False)\n",
    "sns.set_context(\"poster\")\n",
    "sns.lineplot(x = wdays_avg_duration[:,0], y=wdays_avg_duration[:, 1])\n",
    "sns.despine(bottom = False)"
   ]
  },
  {
   "cell_type": "code",
   "execution_count": null,
   "id": "93c5568b",
   "metadata": {},
   "outputs": [],
   "source": []
  }
 ],
 "metadata": {
  "kernelspec": {
   "display_name": "Python 3 (ipykernel)",
   "language": "python",
   "name": "python3"
  },
  "language_info": {
   "codemirror_mode": {
    "name": "ipython",
    "version": 3
   },
   "file_extension": ".py",
   "mimetype": "text/x-python",
   "name": "python",
   "nbconvert_exporter": "python",
   "pygments_lexer": "ipython3",
   "version": "3.9.5"
  }
 },
 "nbformat": 4,
 "nbformat_minor": 5
}
